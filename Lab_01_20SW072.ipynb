{
  "nbformat": 4,
  "nbformat_minor": 0,
  "metadata": {
    "colab": {
      "provenance": [],
      "authorship_tag": "ABX9TyMdjCCglJ7k9mzhzTre02LL",
      "include_colab_link": true
    },
    "kernelspec": {
      "name": "python3",
      "display_name": "Python 3"
    },
    "language_info": {
      "name": "python"
    }
  },
  "cells": [
    {
      "cell_type": "markdown",
      "metadata": {
        "id": "view-in-github",
        "colab_type": "text"
      },
      "source": [
        "<a href=\"https://colab.research.google.com/github/farhannaliarain/DataScience/blob/main/Lab_01_20SW072.ipynb\" target=\"_parent\"><img src=\"https://colab.research.google.com/assets/colab-badge.svg\" alt=\"Open In Colab\"/></a>"
      ]
    },
    {
      "cell_type": "markdown",
      "source": [
        "Lab#01- Data Types and Operators\n",
        "\n",
        "Rollno : 20SW072\n",
        "\n",
        "Section : 2"
      ],
      "metadata": {
        "id": "fiag-zb94xDL"
      }
    },
    {
      "cell_type": "markdown",
      "source": [
        "Task#01"
      ],
      "metadata": {
        "id": "hQG1v6725oMF"
      }
    },
    {
      "cell_type": "code",
      "source": [
        "name = \"farhan\"\n",
        "rollno = 72\n",
        "print(\"my name is {} \".format(name))\n",
        "print(\"my roll number is {}\".format(rollno))"
      ],
      "metadata": {
        "colab": {
          "base_uri": "https://localhost:8080/"
        },
        "id": "aAjoZTPq5soW",
        "outputId": "662285c1-d981-42f2-e818-c1f50e1c6aa5"
      },
      "execution_count": 2,
      "outputs": [
        {
          "output_type": "stream",
          "name": "stdout",
          "text": [
            "my name is farhan \n",
            "my roll number is 72\n"
          ]
        }
      ]
    },
    {
      "cell_type": "markdown",
      "source": [
        "Task#02"
      ],
      "metadata": {
        "id": "vIcp4-yg6m66"
      }
    },
    {
      "cell_type": "code",
      "source": [
        "text = \"Hello, World!\"\n",
        "print(\"Capitalized:\", text.capitalize())\n",
        "print(\"Capitalized:\", text.casefold())\n",
        "centered_text = text.center(20, \"*\")\n",
        "print(\"Centered text:\", centered_text)\n",
        "print(\"Count of 'l':\", text.count(\"l\"))\n",
        "\n",
        "\n",
        "text = \"Hello, World!\"\n",
        "encoded_text = text.encode(\"utf-8\")\n",
        "print(\"Encoded text:\", encoded_text)\n",
        "print(\"Starts with 'Hello':\", text.startswith(\"Hello\"))\n",
        "print(\"Ends with 'World!':\", text.endswith(\"World!\"))"
      ],
      "metadata": {
        "colab": {
          "base_uri": "https://localhost:8080/"
        },
        "id": "1Osriw1G6p9A",
        "outputId": "73805eef-848f-41bf-ac3b-6d0c01032b44"
      },
      "execution_count": 3,
      "outputs": [
        {
          "output_type": "stream",
          "name": "stdout",
          "text": [
            "Capitalized: Hello, world!\n",
            "Capitalized: hello, world!\n",
            "Centered text: ***Hello, World!****\n",
            "Count of 'l': 3\n",
            "Encoded text: b'Hello, World!'\n",
            "Starts with 'Hello': True\n",
            "Ends with 'World!': True\n"
          ]
        }
      ]
    },
    {
      "cell_type": "markdown",
      "source": [
        "Task#03"
      ],
      "metadata": {
        "id": "DWoi43TX7XlS"
      }
    },
    {
      "cell_type": "code",
      "source": [
        "month = 4\n",
        "days_in_month = [31,28,31,30,31,30,31,31,30,31,30,31]\n",
        "days = days_in_month[month-1]\n",
        "print(days)"
      ],
      "metadata": {
        "colab": {
          "base_uri": "https://localhost:8080/"
        },
        "id": "uxmKeHwW7bM8",
        "outputId": "afd55978-db9e-4b80-b038-63a010610675"
      },
      "execution_count": 4,
      "outputs": [
        {
          "output_type": "stream",
          "name": "stdout",
          "text": [
            "30\n"
          ]
        }
      ]
    },
    {
      "cell_type": "markdown",
      "source": [
        "Task#04"
      ],
      "metadata": {
        "id": "6dIQJvH67oVH"
      }
    },
    {
      "cell_type": "code",
      "source": [
        "eclipse_dates = ['June 21, 2001', 'December 4, 2002', 'November 23,2003',\n",
        " 'March 29, 2006', 'August 1, 2008', 'July 22, 2009',\n",
        " 'July 11, 2010', 'November 13, 2012', 'March 20,2015',\n",
        " 'March 9, 2016']\n",
        "print(eclipse_dates[7:10])"
      ],
      "metadata": {
        "colab": {
          "base_uri": "https://localhost:8080/"
        },
        "id": "APhJ_-KH7r0m",
        "outputId": "878ff817-f5f0-4617-fe69-5a5f76ba80c2"
      },
      "execution_count": 5,
      "outputs": [
        {
          "output_type": "stream",
          "name": "stdout",
          "text": [
            "['November 13, 2012', 'March 20,2015', 'March 9, 2016']\n"
          ]
        }
      ]
    },
    {
      "cell_type": "markdown",
      "source": [
        "Task#05"
      ],
      "metadata": {
        "id": "lyk-Wccl73YI"
      }
    },
    {
      "cell_type": "code",
      "source": [
        "nested_dict = {\n",
        "    'Asad': {\n",
        "        'rollno': '042',\n",
        "        'Batch': '20',\n",
        "        'gpa': '3.5'\n",
        "    },\n",
        "    'Hassan': {\n",
        "        'rollno': '012',\n",
        "        'gpa': '4'\n",
        "    },\n",
        "    'key3': {\n",
        "        'farhan': {\n",
        "            'rollno': '72',\n",
        "            'gpa': '3.4'\n",
        "        }\n",
        "    }\n",
        "}\n",
        "\n",
        "print(nested_dict)"
      ],
      "metadata": {
        "colab": {
          "base_uri": "https://localhost:8080/"
        },
        "id": "SfFD5Lmc77nB",
        "outputId": "f545efba-4d87-4169-b402-aa9c648c6736"
      },
      "execution_count": 6,
      "outputs": [
        {
          "output_type": "stream",
          "name": "stdout",
          "text": [
            "{'Asad': {'rollno': '042', 'Batch': '20', 'gpa': '3.5'}, 'Hassan': {'rollno': '012', 'gpa': '4'}, 'key3': {'farhan': {'rollno': '72', 'gpa': '3.4'}}}\n"
          ]
        }
      ]
    }
  ]
}