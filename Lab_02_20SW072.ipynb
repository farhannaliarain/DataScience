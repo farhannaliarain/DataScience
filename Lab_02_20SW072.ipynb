{
  "nbformat": 4,
  "nbformat_minor": 0,
  "metadata": {
    "colab": {
      "provenance": [],
      "authorship_tag": "ABX9TyPqB69zGyiNzJfW0FsShGm9",
      "include_colab_link": true
    },
    "kernelspec": {
      "name": "python3",
      "display_name": "Python 3"
    },
    "language_info": {
      "name": "python"
    }
  },
  "cells": [
    {
      "cell_type": "markdown",
      "metadata": {
        "id": "view-in-github",
        "colab_type": "text"
      },
      "source": [
        "<a href=\"https://colab.research.google.com/github/farhannaliarain/DataScience/blob/main/Lab_02_20SW072.ipynb\" target=\"_parent\"><img src=\"https://colab.research.google.com/assets/colab-badge.svg\" alt=\"Open In Colab\"/></a>"
      ]
    },
    {
      "cell_type": "markdown",
      "source": [
        "Lab#02 : Control flow in python\n",
        "\n",
        "Rollno : 20SW072\n",
        "\n",
        "Section : 2\n",
        "\n",
        "Task#01"
      ],
      "metadata": {
        "id": "vj8t5IBsU1VN"
      }
    },
    {
      "cell_type": "code",
      "source": [
        "point = int(input(\"enter the points your have achieved : \"))\n",
        "\n",
        "result = \"\"\n",
        "\n",
        "if point >= 1 and point <= 50:\n",
        "   result = \"wooden rabbit\"\n",
        "   print(\"congratulations you have won : \"+ result)\n",
        "elif point >= 51 and point <= 150:\n",
        "   result = \"no pirze\"\n",
        "   print(\"congratulations you have won : \"+ result)\n",
        "elif point >= 151 and point <= 180:\n",
        "   result = \"water thin mint\"\n",
        "   print(\"congratulations you have won : \"+ result)\n",
        "elif point >= 180 and point <= 200:\n",
        "  result = \"penguin\"\n",
        "  print(\"congratulations you have won : \"+ result)\n",
        "else :\n",
        "  print(\"no prize this time\")"
      ],
      "metadata": {
        "colab": {
          "base_uri": "https://localhost:8080/"
        },
        "id": "WUSQKcWUVT0a",
        "outputId": "08d21152-a4b5-49b8-b2c6-e10cb7230663"
      },
      "execution_count": 1,
      "outputs": [
        {
          "output_type": "stream",
          "name": "stdout",
          "text": [
            "enter the points your have achieved : 140\n",
            "congratulations you have won : no pirze\n"
          ]
        }
      ]
    },
    {
      "cell_type": "markdown",
      "source": [
        "Task#02"
      ],
      "metadata": {
        "id": "2bsA0VELVW1s"
      }
    },
    {
      "cell_type": "code",
      "source": [
        "guess = int(input(\"guess the number which is hidden : \"))\n",
        "\n",
        "answer = 15\n",
        "\n",
        "if guess >= 1 and guess <=5:\n",
        " result = \"guess is too low\"\n",
        " print(\"your guess \"+ result)\n",
        "elif guess >= 5 and guess <= 10:\n",
        "  result = \" it is close but still low\"\n",
        "  print(\"your guess \"+ result)\n",
        "elif guess >= 10 and guess <= 15:\n",
        "   result = \"good you have guess right\"\n",
        "   print(\"your guess \"+ result)\n",
        "elif guess >= 20 :\n",
        "   result = \"too hight\"\n",
        "   print(\"your guess \"+ result)\n",
        "else :\n",
        " print(\"invalid input\")"
      ],
      "metadata": {
        "colab": {
          "base_uri": "https://localhost:8080/"
        },
        "id": "veLYw-txVZMX",
        "outputId": "673bde1e-2fbe-4ac9-e13f-40e5efbc7fb0"
      },
      "execution_count": 2,
      "outputs": [
        {
          "output_type": "stream",
          "name": "stdout",
          "text": [
            "guess the number which is hidden : 12\n",
            "your guess good you have guess right\n"
          ]
        }
      ]
    },
    {
      "cell_type": "markdown",
      "source": [
        "Task#03"
      ],
      "metadata": {
        "id": "qPRhFeD9WZ3i"
      }
    },
    {
      "cell_type": "code",
      "source": [
        "from IPython.core.formatters import StringIO\n",
        "amount = int(input(\"enter the purchase amount : \"))\n",
        "state = str(input(\"enter the state name like ( CA, MN, NY) : \"))\n",
        "\n",
        "tax = 0.0\n",
        "\n",
        "if state == \"CA\":\n",
        " tax = amount * 0.075\n",
        " print(\"the tax charge is  \"+ str(tax))\n",
        "elif state == \"MN\":\n",
        "   tax = amount * 0.095\n",
        "   print(\"the tax charge is  \"+ str(tax))\n",
        "\n",
        "elif state == \"NY\":\n",
        "\n",
        "    tax = amount * 0.089\n",
        "    print(\"the tax charge is  \"+ str(tax))\n",
        "else :\n",
        " print(\"invalid input\")"
      ],
      "metadata": {
        "colab": {
          "base_uri": "https://localhost:8080/"
        },
        "id": "JlZnebS5Wcu4",
        "outputId": "d64d7bd7-13ff-44be-891b-cab4934f12c4"
      },
      "execution_count": 4,
      "outputs": [
        {
          "output_type": "stream",
          "name": "stdout",
          "text": [
            "enter the purchase amount : 4000\n",
            "enter the state name like ( CA, MN, NY) : NY\n",
            "the tax charge is  356.0\n"
          ]
        }
      ]
    },
    {
      "cell_type": "markdown",
      "source": [
        "Task#04"
      ],
      "metadata": {
        "id": "OfObHnJZW2KF"
      }
    },
    {
      "cell_type": "code",
      "source": [
        "sentence = [\"the\", \"quick\", \"brown\", \"fox\", \"jumped\", \"over\", \"the\", \"lazy\", \"dog\"]\n",
        "\n",
        "for i in sentence:\n",
        "\n",
        "  print(i)"
      ],
      "metadata": {
        "colab": {
          "base_uri": "https://localhost:8080/"
        },
        "id": "5LTT0DAUW4cw",
        "outputId": "5339cbf9-122b-4a3c-f681-4ec8b0886481"
      },
      "execution_count": 5,
      "outputs": [
        {
          "output_type": "stream",
          "name": "stdout",
          "text": [
            "the\n",
            "quick\n",
            "brown\n",
            "fox\n",
            "jumped\n",
            "over\n",
            "the\n",
            "lazy\n",
            "dog\n"
          ]
        }
      ]
    },
    {
      "cell_type": "markdown",
      "source": [
        "Task#05"
      ],
      "metadata": {
        "id": "7g9ifefsXAye"
      }
    },
    {
      "cell_type": "code",
      "source": [
        "for num in range(5, 31, 5):\n",
        "    print(num)"
      ],
      "metadata": {
        "colab": {
          "base_uri": "https://localhost:8080/"
        },
        "id": "BaXG7c6cXC3H",
        "outputId": "74126f48-ea6c-42df-a0e7-c92b66624b1d"
      },
      "execution_count": 6,
      "outputs": [
        {
          "output_type": "stream",
          "name": "stdout",
          "text": [
            "5\n",
            "10\n",
            "15\n",
            "20\n",
            "25\n",
            "30\n"
          ]
        }
      ]
    },
    {
      "cell_type": "markdown",
      "source": [
        "Task#06"
      ],
      "metadata": {
        "id": "fpUhKc0_XKk_"
      }
    },
    {
      "cell_type": "code",
      "source": [
        "names = [\"Farhan ali\", \"Asad ali\", \"Hassan ali\", \"Zohaib ali\"]\n",
        "\n",
        "# Using list comprehension to extract first names in lowercase\n",
        "first_names = [name.split()[0].lower() for name in names]\n",
        "print(first_names)"
      ],
      "metadata": {
        "colab": {
          "base_uri": "https://localhost:8080/"
        },
        "id": "Xmbnn1N9XM9T",
        "outputId": "3e8dfda1-1411-4459-925d-30b447187192"
      },
      "execution_count": 10,
      "outputs": [
        {
          "output_type": "stream",
          "name": "stdout",
          "text": [
            "['farhan', 'asad', 'hassan', 'zohaib']\n"
          ]
        }
      ]
    },
    {
      "cell_type": "markdown",
      "source": [
        "Task#07"
      ],
      "metadata": {
        "id": "rYtDKZlBXwPX"
      }
    },
    {
      "cell_type": "code",
      "source": [
        "first_names = [i**3 for i in range(1,20)]\n",
        "\n",
        "print(first_names)"
      ],
      "metadata": {
        "colab": {
          "base_uri": "https://localhost:8080/"
        },
        "id": "LF0f8XmKXzTq",
        "outputId": "981cfed7-6841-465a-a588-66bfc031ac89"
      },
      "execution_count": 11,
      "outputs": [
        {
          "output_type": "stream",
          "name": "stdout",
          "text": [
            "[1, 8, 27, 64, 125, 216, 343, 512, 729, 1000, 1331, 1728, 2197, 2744, 3375, 4096, 4913, 5832, 6859]\n"
          ]
        }
      ]
    },
    {
      "cell_type": "markdown",
      "source": [
        "Task#08"
      ],
      "metadata": {
        "id": "jNK7GR4yX8yo"
      }
    },
    {
      "cell_type": "code",
      "source": [
        "scores = {\"Farhan Ali\": 70, \"Asad Ali\": 75, \"Hassan Ali\": 82, \"Awais chandio\": 83, \"Zohaib Ali\": 98}\n",
        "\n",
        "# List comprehension to get names with scores >= 65\n",
        "passed_names = [name for name, score in scores.items() if score >= 65]\n",
        "\n",
        "print(passed_names)"
      ],
      "metadata": {
        "colab": {
          "base_uri": "https://localhost:8080/"
        },
        "id": "Ex61w2xNX_XP",
        "outputId": "82dcc0dd-42fb-48b2-c831-1610c2677bf9"
      },
      "execution_count": 13,
      "outputs": [
        {
          "output_type": "stream",
          "name": "stdout",
          "text": [
            "['Farhan Ali', 'Asad Ali', 'Hassan Ali', 'Awais chandio', 'Zohaib Ali']\n"
          ]
        }
      ]
    },
    {
      "cell_type": "markdown",
      "source": [
        "Task#09"
      ],
      "metadata": {
        "id": "nn4xXyFmYc1i"
      }
    },
    {
      "cell_type": "code",
      "source": [
        "cast_names = [\"Barney\", \"Robin\", \"Ted\", \"Lily\", \"Marshall\"]\n",
        "cast_heights = [72, 68, 72, 66, 76]\n",
        "\n",
        "cast = dict(zip(cast_names, cast_heights))\n",
        "\n",
        "print(cast)"
      ],
      "metadata": {
        "colab": {
          "base_uri": "https://localhost:8080/"
        },
        "id": "27X8X47-Yf5E",
        "outputId": "92c84561-9bea-4d67-f25a-74d05716fa91"
      },
      "execution_count": 14,
      "outputs": [
        {
          "output_type": "stream",
          "name": "stdout",
          "text": [
            "{'Barney': 72, 'Robin': 68, 'Ted': 72, 'Lily': 66, 'Marshall': 76}\n"
          ]
        }
      ]
    },
    {
      "cell_type": "markdown",
      "source": [
        "Task#10"
      ],
      "metadata": {
        "id": "5tjXYfc_YnJV"
      }
    },
    {
      "cell_type": "code",
      "source": [
        "cast = [\"Barney Stinson\", \"Robin Scherbatsky\", \"Ted Mosby\", \"Lily Aldrin\", \"Marshall Eriksen\"]\n",
        "heights = [72, 68, 72, 66, 76]\n",
        "\n",
        "# Modify the cast list using enumerate() and a for loop\n",
        "for index, name in enumerate(cast):\n",
        "    cast[index] = name + str(heights[index])\n",
        "\n",
        "print(cast)"
      ],
      "metadata": {
        "colab": {
          "base_uri": "https://localhost:8080/"
        },
        "id": "eKTBi4pMYpal",
        "outputId": "05f564b8-fc13-48f2-8d70-61abe20d29aa"
      },
      "execution_count": 15,
      "outputs": [
        {
          "output_type": "stream",
          "name": "stdout",
          "text": [
            "['Barney Stinson72', 'Robin Scherbatsky68', 'Ted Mosby72', 'Lily Aldrin66', 'Marshall Eriksen76']\n"
          ]
        }
      ]
    }
  ]
}